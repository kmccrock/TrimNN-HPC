{
 "cells": [
  {
   "cell_type": "markdown",
   "metadata": {},
   "source": [
    "Eli Lilly - CosMx - Kidney\n",
    "\n",
    "Data Prep"
   ]
  },
  {
   "cell_type": "code",
   "execution_count": 1,
   "metadata": {},
   "outputs": [],
   "source": [
    "import numpy as np\n",
    "import pandas as pd"
   ]
  },
  {
   "cell_type": "code",
   "execution_count": 2,
   "metadata": {},
   "outputs": [
    {
     "name": "stdout",
     "output_type": "stream",
     "text": [
      "Run_Tissue_name\n",
      "Run5571_S3    69905\n",
      "Run5589_S1    68564\n",
      "Run5571_S2    67858\n",
      "Name: count, dtype: int64\n"
     ]
    }
   ],
   "source": [
    "# Import metadata and split into 3 samples\n",
    "meta = pd.read_csv(\"C:/Users/kmccr/Desktop/Eli Lilly CosMx Data/CosMx_Summaryfiles/processed_metadata.csv\", index_col=0)\n",
    "print(meta['Run_Tissue_name'].value_counts())\n",
    "meta_S1 = meta[meta[\"Run_Tissue_name\"]=='Run5589_S1']\n",
    "meta_S2 = meta[meta[\"Run_Tissue_name\"]=='Run5571_S2']\n",
    "meta_S3 = meta[meta[\"Run_Tissue_name\"]=='Run5571_S3']\n",
    "\n",
    "# Remove unneeded text from beginning of cell ID string\n",
    "meta_S1 = meta_S1.assign(cell_ID_comb=meta_S1[\"cell_ID\"].str.replace(\"c_3_\", \"\", regex=False))\n",
    "meta_S2 = meta_S2.assign(cell_ID_comb=meta_S2[\"cell_ID\"].str.replace(\"c_1_\", \"\", regex=False))\n",
    "meta_S3 = meta_S3.assign(cell_ID_comb=meta_S3[\"cell_ID\"].str.replace(\"c_2_\", \"\", regex=False))\n",
    "\n",
    "# Import spatial data for each sample\n",
    "S1 = pd.read_csv(\"C:/Users/kmccr/Desktop/Eli Lilly CosMx Data/CosMx_Summaryfiles/Run5589_S1_metadata_file.csv\")\n",
    "S2 = pd.read_csv(\"C:/Users/kmccr/Desktop/Eli Lilly CosMx Data/CosMx_Summaryfiles/Run5571_S2_metadata_file.csv\")\n",
    "S3 = pd.read_csv(\"C:/Users/kmccr/Desktop/Eli Lilly CosMx Data/CosMx_Summaryfiles/Run5571_S3_metadata_file.csv\")\n",
    "\n",
    "# Create cell ID column to merge with metadata\n",
    "S1.loc[:, \"cell_ID_comb\"] = S1[\"fov\"].astype(str) + \"_\" + S1[\"cell_ID\"].astype(str)\n",
    "S2.loc[:, \"cell_ID_comb\"] = S2[\"fov\"].astype(str) + \"_\" + S2[\"cell_ID\"].astype(str)\n",
    "S3.loc[:, \"cell_ID_comb\"] = S3[\"fov\"].astype(str) + \"_\" + S3[\"cell_ID\"].astype(str)\n",
    "\n",
    "# Subset to desired columns\n",
    "meta_S1 = meta_S1[['cell_ID_comb', 'nb_clus']]\n",
    "meta_S2 = meta_S2[['cell_ID_comb', 'nb_clus']]\n",
    "meta_S3 = meta_S3[['cell_ID_comb', 'nb_clus']]\n",
    "S1 = S1[['cell_ID_comb','CenterX_local_px','CenterY_local_px']]\n",
    "S2 = S2[['cell_ID_comb','CenterX_local_px','CenterY_local_px']]\n",
    "S3 = S3[['cell_ID_comb','CenterX_local_px','CenterY_local_px']]\n",
    "\n",
    "# Merge on shared cells\n",
    "S1 = S1.merge(meta_S1, on=\"cell_ID_comb\", how=\"inner\")\n",
    "S2 = S2.merge(meta_S2, on=\"cell_ID_comb\", how=\"inner\")\n",
    "S3 = S3.merge(meta_S3, on=\"cell_ID_comb\", how=\"inner\")\n",
    "\n",
    "# Rename\n",
    "S1.columns = [\"ID\", \"X\", \"Y\", 'cell_type']\n",
    "S2.columns = [\"ID\", \"X\", \"Y\", 'cell_type']\n",
    "S3.columns = [\"ID\", \"X\", \"Y\", 'cell_type']\n",
    "\n",
    "# Drop ID column\n",
    "S1 = S1.drop(columns=[\"ID\"])\n",
    "S2 = S2.drop(columns=[\"ID\"])\n",
    "S3 = S3.drop(columns=[\"ID\"])"
   ]
  },
  {
   "cell_type": "code",
   "execution_count": 3,
   "metadata": {},
   "outputs": [
    {
     "data": {
      "text/html": [
       "<div>\n",
       "<style scoped>\n",
       "    .dataframe tbody tr th:only-of-type {\n",
       "        vertical-align: middle;\n",
       "    }\n",
       "\n",
       "    .dataframe tbody tr th {\n",
       "        vertical-align: top;\n",
       "    }\n",
       "\n",
       "    .dataframe thead th {\n",
       "        text-align: right;\n",
       "    }\n",
       "</style>\n",
       "<table border=\"1\" class=\"dataframe\">\n",
       "  <thead>\n",
       "    <tr style=\"text-align: right;\">\n",
       "      <th></th>\n",
       "      <th>X</th>\n",
       "      <th>Y</th>\n",
       "      <th>cell_type</th>\n",
       "    </tr>\n",
       "  </thead>\n",
       "  <tbody>\n",
       "    <tr>\n",
       "      <th>0</th>\n",
       "      <td>126</td>\n",
       "      <td>3623</td>\n",
       "      <td>epithelial.cell.of.proximal.tubule</td>\n",
       "    </tr>\n",
       "    <tr>\n",
       "      <th>1</th>\n",
       "      <td>296</td>\n",
       "      <td>3573</td>\n",
       "      <td>papillary.tips.cell</td>\n",
       "    </tr>\n",
       "    <tr>\n",
       "      <th>2</th>\n",
       "      <td>585</td>\n",
       "      <td>3627</td>\n",
       "      <td>a</td>\n",
       "    </tr>\n",
       "    <tr>\n",
       "      <th>3</th>\n",
       "      <td>840</td>\n",
       "      <td>3625</td>\n",
       "      <td>a</td>\n",
       "    </tr>\n",
       "    <tr>\n",
       "      <th>4</th>\n",
       "      <td>1463</td>\n",
       "      <td>3622</td>\n",
       "      <td>a</td>\n",
       "    </tr>\n",
       "    <tr>\n",
       "      <th>...</th>\n",
       "      <td>...</td>\n",
       "      <td>...</td>\n",
       "      <td>...</td>\n",
       "    </tr>\n",
       "    <tr>\n",
       "      <th>68559</th>\n",
       "      <td>4386</td>\n",
       "      <td>69</td>\n",
       "      <td>a</td>\n",
       "    </tr>\n",
       "    <tr>\n",
       "      <th>68560</th>\n",
       "      <td>4466</td>\n",
       "      <td>67</td>\n",
       "      <td>a</td>\n",
       "    </tr>\n",
       "    <tr>\n",
       "      <th>68561</th>\n",
       "      <td>2539</td>\n",
       "      <td>75</td>\n",
       "      <td>a</td>\n",
       "    </tr>\n",
       "    <tr>\n",
       "      <th>68562</th>\n",
       "      <td>970</td>\n",
       "      <td>59</td>\n",
       "      <td>endothelial.cell</td>\n",
       "    </tr>\n",
       "    <tr>\n",
       "      <th>68563</th>\n",
       "      <td>670</td>\n",
       "      <td>46</td>\n",
       "      <td>d</td>\n",
       "    </tr>\n",
       "  </tbody>\n",
       "</table>\n",
       "<p>68564 rows × 3 columns</p>\n",
       "</div>"
      ],
      "text/plain": [
       "          X     Y                           cell_type\n",
       "0       126  3623  epithelial.cell.of.proximal.tubule\n",
       "1       296  3573                 papillary.tips.cell\n",
       "2       585  3627                                   a\n",
       "3       840  3625                                   a\n",
       "4      1463  3622                                   a\n",
       "...     ...   ...                                 ...\n",
       "68559  4386    69                                   a\n",
       "68560  4466    67                                   a\n",
       "68561  2539    75                                   a\n",
       "68562   970    59                    endothelial.cell\n",
       "68563   670    46                                   d\n",
       "\n",
       "[68564 rows x 3 columns]"
      ]
     },
     "execution_count": 3,
     "metadata": {},
     "output_type": "execute_result"
    }
   ],
   "source": [
    "S1"
   ]
  },
  {
   "cell_type": "code",
   "execution_count": 4,
   "metadata": {},
   "outputs": [
    {
     "data": {
      "text/plain": [
       "cell_type\n",
       "d                                                            18834\n",
       "a                                                            14800\n",
       "papillary.tips.cell                                           6530\n",
       "leukocyte                                                     3909\n",
       "endothelial.cell                                              3875\n",
       "b                                                             3352\n",
       "kidney.interstitial.fibroblast                                3281\n",
       "renal.interstitial.pericyte                                   2131\n",
       "kidney.loop.of.Henle.thick.ascending.limb.epithelial.cell     1836\n",
       "c                                                             1721\n",
       "epithelial.cell.of.proximal.tubule                            1575\n",
       "kidney.collecting.duct.intercalated.cell                      1404\n",
       "glomerular.visceral.epithelial.cell                           1221\n",
       "kidney.loop.of.Henle.thin.ascending.limb.epithelial.cell      1117\n",
       "kidney.collecting.duct.principal.cell                          941\n",
       "kidney.connecting.tubule.epithelial.cell                       829\n",
       "parietal.epithelial.cell                                       588\n",
       "kidney.distal.convoluted.tubule.epithelial.cell                420\n",
       "kidney.loop.of.Henle.thin.descending.limb.epithelial.cell      200\n",
       "Name: count, dtype: int64"
      ]
     },
     "execution_count": 4,
     "metadata": {},
     "output_type": "execute_result"
    }
   ],
   "source": [
    "S1['cell_type'].value_counts()"
   ]
  },
  {
   "cell_type": "code",
   "execution_count": 5,
   "metadata": {},
   "outputs": [
    {
     "data": {
      "text/plain": [
       "cell_type\n",
       "a                                                            14609\n",
       "d                                                            11142\n",
       "endothelial.cell                                              8319\n",
       "epithelial.cell.of.proximal.tubule                            4711\n",
       "kidney.collecting.duct.principal.cell                         3915\n",
       "kidney.loop.of.Henle.thin.ascending.limb.epithelial.cell      3695\n",
       "kidney.loop.of.Henle.thick.ascending.limb.epithelial.cell     3196\n",
       "kidney.collecting.duct.intercalated.cell                      2940\n",
       "kidney.connecting.tubule.epithelial.cell                      2575\n",
       "kidney.interstitial.fibroblast                                2548\n",
       "kidney.distal.convoluted.tubule.epithelial.cell               2538\n",
       "glomerular.visceral.epithelial.cell                           1706\n",
       "leukocyte                                                     1514\n",
       "parietal.epithelial.cell                                       990\n",
       "b                                                              945\n",
       "renal.interstitial.pericyte                                    851\n",
       "c                                                              851\n",
       "papillary.tips.cell                                            735\n",
       "kidney.loop.of.Henle.thin.descending.limb.epithelial.cell       78\n",
       "Name: count, dtype: int64"
      ]
     },
     "execution_count": 5,
     "metadata": {},
     "output_type": "execute_result"
    }
   ],
   "source": [
    "S2['cell_type'].value_counts()"
   ]
  },
  {
   "cell_type": "code",
   "execution_count": 6,
   "metadata": {},
   "outputs": [
    {
     "data": {
      "text/plain": [
       "cell_type\n",
       "d                                                            15461\n",
       "epithelial.cell.of.proximal.tubule                           10875\n",
       "endothelial.cell                                              8891\n",
       "a                                                             7652\n",
       "leukocyte                                                     5200\n",
       "b                                                             4979\n",
       "kidney.connecting.tubule.epithelial.cell                      4777\n",
       "glomerular.visceral.epithelial.cell                           2316\n",
       "renal.interstitial.pericyte                                   1903\n",
       "kidney.loop.of.Henle.thick.ascending.limb.epithelial.cell     1893\n",
       "kidney.collecting.duct.intercalated.cell                      1799\n",
       "parietal.epithelial.cell                                      1620\n",
       "kidney.interstitial.fibroblast                                 999\n",
       "kidney.distal.convoluted.tubule.epithelial.cell                880\n",
       "c                                                              415\n",
       "papillary.tips.cell                                            130\n",
       "kidney.collecting.duct.principal.cell                           91\n",
       "kidney.loop.of.Henle.thin.ascending.limb.epithelial.cell        16\n",
       "kidney.loop.of.Henle.thin.descending.limb.epithelial.cell        8\n",
       "Name: count, dtype: int64"
      ]
     },
     "execution_count": 6,
     "metadata": {},
     "output_type": "execute_result"
    }
   ],
   "source": [
    "S3['cell_type'].value_counts()"
   ]
  },
  {
   "cell_type": "code",
   "execution_count": 7,
   "metadata": {},
   "outputs": [],
   "source": [
    "# Write datasets to csv\n",
    "S1.to_csv(\"data/S1.csv\", index=False)\n",
    "S2.to_csv(\"data/S2.csv\", index=False)\n",
    "S3.to_csv(\"data/S3.csv\", index=False)"
   ]
  },
  {
   "cell_type": "code",
   "execution_count": null,
   "metadata": {},
   "outputs": [],
   "source": [
    "# Read csv as glm\n",
    "python csv2gml.py -target data/S1.csv -out data/S1.gml\n",
    "\n",
    "# Function 1: Subgraph Matching\n",
    "python TrimNN.py -function subgraph_matching -k 2 -target data/S1.gml -outpath result_function1/\n",
    "python TrimNN.py -function subgraph_matching -motif data/size-3.gml -k 2 -target data/S1.gml -outpath result_function1/\n",
    "\n",
    "# Function 2: Identify specific size top overrepresented CC motifs\n",
    "python TrimNN.py -function specific_size -size 3 -k 2 -target data/S1.gml -celltype 19 -outpath result_function2/\n",
    "\n",
    "# Function 3: Identify all top overrepresented CC motifs\n",
    "python TrimNN.py -function all_size -size 4 -k 2 -target data/S1.gml -celltype 19 -outpath result_function3/ -search greedy\n",
    "python TrimNN.py -function all_size -size 4 -k 2 -target data/S2.gml -celltype 19 -outpath result_function3/ -search greedy\n",
    "python TrimNN.py -function all_size -size 4 -k 2 -target data/S3.gml -celltype 19 -outpath result_function3/ -search greedy"
   ]
  }
 ],
 "metadata": {
  "kernelspec": {
   "display_name": "BSP_env",
   "language": "python",
   "name": "python3"
  },
  "language_info": {
   "codemirror_mode": {
    "name": "ipython",
    "version": 3
   },
   "file_extension": ".py",
   "mimetype": "text/x-python",
   "name": "python",
   "nbconvert_exporter": "python",
   "pygments_lexer": "ipython3",
   "version": "3.12.3"
  }
 },
 "nbformat": 4,
 "nbformat_minor": 2
}
